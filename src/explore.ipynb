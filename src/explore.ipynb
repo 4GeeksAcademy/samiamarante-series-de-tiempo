{
    "cells": [
        {
            "cell_type": "markdown",
            "metadata": {},
            "source": [
                "# Explore here"
            ]
        },
        {
            "cell_type": "code",
            "execution_count": 38,
            "metadata": {},
            "outputs": [],
            "source": [
                "import numpy as np\n",
                "import pandas as pd\n",
                "import matplotlib.pyplot as plt\n",
                "from statsmodels.tsa.stattools import adfuller\n",
                "from statsmodels.graphics.tsaplots import plot_acf, plot_pacf\n",
                "from statsmodels.tsa.arima.model import ARIMA\n",
                "from sklearn.metrics import mean_absolute_error, mean_squared_error\n",
                "import joblib\n",
                "import os"
            ]
        },
        {
            "cell_type": "code",
            "execution_count": 39,
            "metadata": {},
            "outputs": [
                {
                    "data": {
                        "text/html": [
                            "<div>\n",
                            "<style scoped>\n",
                            "    .dataframe tbody tr th:only-of-type {\n",
                            "        vertical-align: middle;\n",
                            "    }\n",
                            "\n",
                            "    .dataframe tbody tr th {\n",
                            "        vertical-align: top;\n",
                            "    }\n",
                            "\n",
                            "    .dataframe thead th {\n",
                            "        text-align: right;\n",
                            "    }\n",
                            "</style>\n",
                            "<table border=\"1\" class=\"dataframe\">\n",
                            "  <thead>\n",
                            "    <tr style=\"text-align: right;\">\n",
                            "      <th></th>\n",
                            "      <th>date</th>\n",
                            "      <th>sales</th>\n",
                            "    </tr>\n",
                            "  </thead>\n",
                            "  <tbody>\n",
                            "    <tr>\n",
                            "      <th>0</th>\n",
                            "      <td>2022-09-03 17:10:08.079328</td>\n",
                            "      <td>55.292157</td>\n",
                            "    </tr>\n",
                            "    <tr>\n",
                            "      <th>1</th>\n",
                            "      <td>2022-09-04 17:10:08.079328</td>\n",
                            "      <td>53.803211</td>\n",
                            "    </tr>\n",
                            "    <tr>\n",
                            "      <th>2</th>\n",
                            "      <td>2022-09-05 17:10:08.079328</td>\n",
                            "      <td>58.141693</td>\n",
                            "    </tr>\n",
                            "    <tr>\n",
                            "      <th>3</th>\n",
                            "      <td>2022-09-06 17:10:08.079328</td>\n",
                            "      <td>64.530899</td>\n",
                            "    </tr>\n",
                            "    <tr>\n",
                            "      <th>4</th>\n",
                            "      <td>2022-09-07 17:10:08.079328</td>\n",
                            "      <td>66.013633</td>\n",
                            "    </tr>\n",
                            "  </tbody>\n",
                            "</table>\n",
                            "</div>"
                        ],
                        "text/plain": [
                            "                         date      sales\n",
                            "0  2022-09-03 17:10:08.079328  55.292157\n",
                            "1  2022-09-04 17:10:08.079328  53.803211\n",
                            "2  2022-09-05 17:10:08.079328  58.141693\n",
                            "3  2022-09-06 17:10:08.079328  64.530899\n",
                            "4  2022-09-07 17:10:08.079328  66.013633"
                        ]
                    },
                    "execution_count": 39,
                    "metadata": {},
                    "output_type": "execute_result"
                }
            ],
            "source": [
                "# Cargar conjunto de datos\n",
                "url = \"https://raw.githubusercontent.com/4GeeksAcademy/alternative-time-series-project/main/sales.csv\"\n",
                "df = pd.read_csv(url)\n",
                "df.head()"
            ]
        },
        {
            "cell_type": "markdown",
            "metadata": {},
            "source": [
                "## Paso 2: Construye y analiza la serie temporal"
            ]
        },
        {
            "cell_type": "code",
            "execution_count": 40,
            "metadata": {},
            "outputs": [
                {
                    "data": {
                        "text/plain": [
                            "(366, 2)"
                        ]
                    },
                    "execution_count": 40,
                    "metadata": {},
                    "output_type": "execute_result"
                }
            ],
            "source": [
                "df.shape"
            ]
        },
        {
            "cell_type": "code",
            "execution_count": 41,
            "metadata": {},
            "outputs": [
                {
                    "data": {
                        "text/plain": [
                            "date      object\n",
                            "sales    float64\n",
                            "dtype: object"
                        ]
                    },
                    "execution_count": 41,
                    "metadata": {},
                    "output_type": "execute_result"
                }
            ],
            "source": [
                "# Ver el tipo de dato\n",
                "df.dtypes"
            ]
        },
        {
            "cell_type": "code",
            "execution_count": 42,
            "metadata": {},
            "outputs": [
                {
                    "data": {
                        "text/plain": [
                            "date     0.0\n",
                            "sales    0.0\n",
                            "dtype: float64"
                        ]
                    },
                    "execution_count": 42,
                    "metadata": {},
                    "output_type": "execute_result"
                }
            ],
            "source": [
                "# Verificar si hay valores faltantes\n",
                "df.isna().mean()*100"
            ]
        },
        {
            "cell_type": "code",
            "execution_count": 43,
            "metadata": {},
            "outputs": [
                {
                    "data": {
                        "text/plain": [
                            "np.int64(0)"
                        ]
                    },
                    "execution_count": 43,
                    "metadata": {},
                    "output_type": "execute_result"
                }
            ],
            "source": [
                "# Verificar si hay valores duplicados\n",
                "df.duplicated().sum()"
            ]
        },
        {
            "cell_type": "code",
            "execution_count": 44,
            "metadata": {},
            "outputs": [
                {
                    "data": {
                        "text/plain": [
                            "date     366\n",
                            "sales    366\n",
                            "dtype: int64"
                        ]
                    },
                    "execution_count": 44,
                    "metadata": {},
                    "output_type": "execute_result"
                }
            ],
            "source": [
                "# Ver valores unicos\n",
                "df.nunique()"
            ]
        },
        {
            "cell_type": "markdown",
            "metadata": {},
            "source": [
                "Convertiré la columna date al formato de fecha y eliminaré la hora, minutos y segundos. Como solo hay una observación por día, creo que la información de la hora no aporta valor."
            ]
        },
        {
            "cell_type": "code",
            "execution_count": 45,
            "metadata": {},
            "outputs": [
                {
                    "data": {
                        "text/plain": [
                            "date     datetime64[ns]\n",
                            "sales           float64\n",
                            "dtype: object"
                        ]
                    },
                    "execution_count": 45,
                    "metadata": {},
                    "output_type": "execute_result"
                }
            ],
            "source": [
                "# Convertir la columna date a formato fecha y quitar la hora\n",
                "df['date'] = pd.to_datetime(df['date'])       \n",
                "df['date'] = df['date'].dt.normalize()        # Quita la hora, deja 00:00:00\n",
                "df.dtypes"
            ]
        },
        {
            "cell_type": "code",
            "execution_count": 46,
            "metadata": {},
            "outputs": [],
            "source": [
                "# Convertir la columna date en el indice del DataFrame\n",
                "df.set_index('date', inplace=True)"
            ]
        },
        {
            "cell_type": "code",
            "execution_count": 47,
            "metadata": {},
            "outputs": [
                {
                    "data": {
                        "text/html": [
                            "<div>\n",
                            "<style scoped>\n",
                            "    .dataframe tbody tr th:only-of-type {\n",
                            "        vertical-align: middle;\n",
                            "    }\n",
                            "\n",
                            "    .dataframe tbody tr th {\n",
                            "        vertical-align: top;\n",
                            "    }\n",
                            "\n",
                            "    .dataframe thead th {\n",
                            "        text-align: right;\n",
                            "    }\n",
                            "</style>\n",
                            "<table border=\"1\" class=\"dataframe\">\n",
                            "  <thead>\n",
                            "    <tr style=\"text-align: right;\">\n",
                            "      <th></th>\n",
                            "      <th>sales</th>\n",
                            "    </tr>\n",
                            "    <tr>\n",
                            "      <th>date</th>\n",
                            "      <th></th>\n",
                            "    </tr>\n",
                            "  </thead>\n",
                            "  <tbody>\n",
                            "    <tr>\n",
                            "      <th>2022-09-03</th>\n",
                            "      <td>55.292157</td>\n",
                            "    </tr>\n",
                            "    <tr>\n",
                            "      <th>2022-09-04</th>\n",
                            "      <td>53.803211</td>\n",
                            "    </tr>\n",
                            "    <tr>\n",
                            "      <th>2022-09-05</th>\n",
                            "      <td>58.141693</td>\n",
                            "    </tr>\n",
                            "    <tr>\n",
                            "      <th>2022-09-06</th>\n",
                            "      <td>64.530899</td>\n",
                            "    </tr>\n",
                            "    <tr>\n",
                            "      <th>2022-09-07</th>\n",
                            "      <td>66.013633</td>\n",
                            "    </tr>\n",
                            "  </tbody>\n",
                            "</table>\n",
                            "</div>"
                        ],
                        "text/plain": [
                            "                sales\n",
                            "date                 \n",
                            "2022-09-03  55.292157\n",
                            "2022-09-04  53.803211\n",
                            "2022-09-05  58.141693\n",
                            "2022-09-06  64.530899\n",
                            "2022-09-07  66.013633"
                        ]
                    },
                    "execution_count": 47,
                    "metadata": {},
                    "output_type": "execute_result"
                }
            ],
            "source": [
                "df.head()"
            ]
        },
        {
            "cell_type": "code",
            "execution_count": 48,
            "metadata": {},
            "outputs": [
                {
                    "data": {
                        "text/plain": [
                            "Timestamp('2022-09-03 00:00:00')"
                        ]
                    },
                    "execution_count": 48,
                    "metadata": {},
                    "output_type": "execute_result"
                }
            ],
            "source": [
                "# Ver na fecha minima\n",
                "df.index.min()"
            ]
        },
        {
            "cell_type": "code",
            "execution_count": 49,
            "metadata": {},
            "outputs": [
                {
                    "data": {
                        "text/plain": [
                            "Timestamp('2023-09-03 00:00:00')"
                        ]
                    },
                    "execution_count": 49,
                    "metadata": {},
                    "output_type": "execute_result"
                }
            ],
            "source": [
                "# Ver la fecha maxima\n",
                "df.index.max()"
            ]
        },
        {
            "cell_type": "code",
            "execution_count": 50,
            "metadata": {},
            "outputs": [
                {
                    "data": {
                        "image/png": "[encoded data removed]",
                        "text/plain": [
                            "<Figure size 1200x600 with 1 Axes>"
                        ]
                    },
                    "metadata": {},
                    "output_type": "display_data"
                }
            ],
            "source": [
                "# Ver si hay tendencias, estacionalidad o valores extraños\n",
                "plt.figure(figsize=(12, 6))\n",
                "plt.plot(df['sales'])\n",
                "plt.title('Ventas diarias')\n",
                "plt.xlabel('Fecha')\n",
                "plt.ylabel('Ventas')\n",
                "plt.grid(True)\n",
                "plt.show()"
            ]
        },
        {
            "cell_type": "code",
            "execution_count": 51,
            "metadata": {},
            "outputs": [
                {
                    "name": "stdout",
                    "output_type": "stream",
                    "text": [
                        "p-value: 0.9861899815311064\n"
                    ]
                }
            ],
            "source": [
                "# Aplicar la prueba de Dickey-Fuller aumentada (ADF) para comprobar si serie es estacionaria\n",
                "resultado = adfuller(df['sales'])\n",
                "print(f'p-value: {resultado[1]}')"
            ]
        },
        {
            "cell_type": "markdown",
            "metadata": {},
            "source": [
                "### Respuestas:\n",
                "\n",
                "**¿Cuál es el tensor de la serie temporal?**\n",
                "\n",
                "El dataset tiene 366 filas consecutivas con fechas distintas, eso indica que el tensor es diario.\n",
                "\n",
                "**¿Cuál es la tendencia?**\n",
                "\n",
                "La tendencia es creciente y constante a lo largo del tiempo.\n",
                "\n",
                "**¿Es estacionaria?**\n",
                "\n",
                "El p-value=0.98 indica que no es estacionaria. \n",
                "\n",
                "**¿Existe variabilidad o presencia de ruido?**\n",
                "\n",
                "Sí, hay algo de variabilidad (ruido), pero no es muy fuerte. Las ventas no son completamente lineales y hay pequeñas variaciones día a día."
            ]
        },
        {
            "cell_type": "markdown",
            "metadata": {},
            "source": [
                "## Paso 3: Entrena un ARIMA"
            ]
        },
        {
            "cell_type": "code",
            "execution_count": 52,
            "metadata": {},
            "outputs": [],
            "source": [
                "# Dividir los datos de entrenamiento y prueba\n",
                "df_train = df.iloc[:300]['sales']\n",
                "df_test = df.iloc[300:]['sales']"
            ]
        },
        {
            "cell_type": "code",
            "execution_count": 53,
            "metadata": {},
            "outputs": [
                {
                    "data": {
                        "text/plain": [
                            "date\n",
                            "2023-06-25    821.218893\n",
                            "2023-06-26    820.704134\n",
                            "2023-06-27    824.762560\n",
                            "2023-06-28    824.418091\n",
                            "2023-06-29    829.329346\n",
                            "Name: sales, dtype: float64"
                        ]
                    },
                    "execution_count": 53,
                    "metadata": {},
                    "output_type": "execute_result"
                }
            ],
            "source": [
                "df_train.tail()"
            ]
        },
        {
            "cell_type": "code",
            "execution_count": 54,
            "metadata": {},
            "outputs": [
                {
                    "data": {
                        "text/plain": [
                            "date\n",
                            "2023-06-30    826.902337\n",
                            "2023-07-01    838.399050\n",
                            "2023-07-02    835.672905\n",
                            "2023-07-03    836.589602\n",
                            "2023-07-04    843.232026\n",
                            "Name: sales, dtype: float64"
                        ]
                    },
                    "execution_count": 54,
                    "metadata": {},
                    "output_type": "execute_result"
                }
            ],
            "source": [
                "df_test.head()"
            ]
        },
        {
            "cell_type": "code",
            "execution_count": 55,
            "metadata": {},
            "outputs": [
                {
                    "name": "stdout",
                    "output_type": "stream",
                    "text": [
                        "p-value: 0.9839380156744093\n"
                    ]
                }
            ],
            "source": [
                "# Comprobar estacionariedad\n",
                "resultado = adfuller(df_train)\n",
                "print(f'p-value: {resultado[1]}')"
            ]
        },
        {
            "cell_type": "code",
            "execution_count": 56,
            "metadata": {},
            "outputs": [],
            "source": [
                "# Aplica la diferenciación al conjunto de entrenamiento para hacerla estacionaria y identificar el valor del d\n",
                "df_train_diff = df_train.diff().dropna()"
            ]
        },
        {
            "cell_type": "code",
            "execution_count": 57,
            "metadata": {},
            "outputs": [
                {
                    "name": "stdout",
                    "output_type": "stream",
                    "text": [
                        "p-value después de diferenciar: 3.0895585393046104e-24\n"
                    ]
                }
            ],
            "source": [
                "# Aplicar la prueba ADF sobre la serie diferenciada\n",
                "result_diff = adfuller(df_train_diff)\n",
                "print(f'p-value después de diferenciar: {result_diff[1]}')"
            ]
        },
        {
            "cell_type": "markdown",
            "metadata": {},
            "source": [
                "Para identificar el valor de d, apliqué la prueba ADF sobre el conjunto de entrenamiento. Como el p-valor fue mayor a 0.05, realicé una primera diferenciación, tras la cual el p-valor cayó por debajo de 0.05. Esto indica que una sola diferenciación es suficiente para hacer la serie estacionaria, por lo que seleccioné d = 1."
            ]
        },
        {
            "cell_type": "code",
            "execution_count": 58,
            "metadata": {},
            "outputs": [
                {
                    "data": {
                        "image/png": "[encoded data removed]",
                        "text/plain": [
                            "<Figure size 1200x500 with 2 Axes>"
                        ]
                    },
                    "metadata": {},
                    "output_type": "display_data"
                }
            ],
            "source": [
                "# Encontrar los parámetros p y q\n",
                "plt.figure(figsize=(12,5))\n",
                "\n",
                "plt.subplot(1,2,1)\n",
                "plot_acf(df_train_diff, ax=plt.gca(), lags=30)\n",
                "plt.title('ACF - Diferenciado (q)')\n",
                "\n",
                "plt.subplot(1,2,2)\n",
                "plot_pacf(df_train_diff, ax=plt.gca(), lags=30)\n",
                "plt.title('PACF - Diferenciado (p)')\n",
                "\n",
                "plt.tight_layout()\n",
                "plt.show()\n"
            ]
        },
        {
            "cell_type": "markdown",
            "metadata": {},
            "source": [
                "Para encontrar los valores de p y q del modelo ARIMA, utilicé los gráficos ACF y PACF después de hacer la diferenciación.\n",
                "\n",
                "En el gráfico PACF, vi que las barras se mantenían fuera del intervalo de confianza hasta el lag 8, así que decidí usar p = 8.\n",
                "\n",
                "En el gráfico ACF, las barras significativas llegaban solo hasta el lag 2, por lo que seleccioné q = 2."
            ]
        },
        {
            "cell_type": "code",
            "execution_count": 59,
            "metadata": {},
            "outputs": [
                {
                    "name": "stderr",
                    "output_type": "stream",
                    "text": [
                        "/home/vscode/.local/lib/python3.11/site-packages/statsmodels/tsa/base/tsa_model.py:473: ValueWarning: No frequency information was provided, so inferred frequency D will be used.\n",
                        "  self._init_dates(dates, freq)\n",
                        "/home/vscode/.local/lib/python3.11/site-packages/statsmodels/tsa/base/tsa_model.py:473: ValueWarning: No frequency information was provided, so inferred frequency D will be used.\n",
                        "  self._init_dates(dates, freq)\n",
                        "/home/vscode/.local/lib/python3.11/site-packages/statsmodels/tsa/base/tsa_model.py:473: ValueWarning: No frequency information was provided, so inferred frequency D will be used.\n",
                        "  self._init_dates(dates, freq)\n",
                        "/home/vscode/.local/lib/python3.11/site-packages/statsmodels/tsa/statespace/sarimax.py:966: UserWarning: Non-stationary starting autoregressive parameters found. Using zeros as starting parameters.\n",
                        "  warn('Non-stationary starting autoregressive parameters'\n"
                    ]
                },
                {
                    "name": "stdout",
                    "output_type": "stream",
                    "text": [
                        "                               SARIMAX Results                                \n",
                        "==============================================================================\n",
                        "Dep. Variable:                  sales   No. Observations:                  300\n",
                        "Model:                 ARIMA(8, 1, 2)   Log Likelihood                -763.493\n",
                        "Date:                Wed, 02 Jul 2025   AIC                           1548.985\n",
                        "Time:                        12:48:07   BIC                           1589.690\n",
                        "Sample:                    09-03-2022   HQIC                          1565.277\n",
                        "                         - 06-29-2023                                         \n",
                        "Covariance Type:                  opg                                         \n",
                        "==============================================================================\n",
                        "                 coef    std err          z      P>|z|      [0.025      0.975]\n",
                        "------------------------------------------------------------------------------\n",
                        "ar.L1         -0.6887      0.205     -3.354      0.001      -1.091      -0.286\n",
                        "ar.L2          0.1832      0.076      2.403      0.016       0.034       0.333\n",
                        "ar.L3          0.2543      0.081      3.154      0.002       0.096       0.412\n",
                        "ar.L4          0.2066      0.078      2.648      0.008       0.054       0.359\n",
                        "ar.L5          0.2077      0.069      3.002      0.003       0.072       0.343\n",
                        "ar.L6          0.2271      0.078      2.919      0.004       0.075       0.380\n",
                        "ar.L7          0.3400      0.068      4.986      0.000       0.206       0.474\n",
                        "ar.L8          0.2697      0.066      4.091      0.000       0.140       0.399\n",
                        "ma.L1         -0.2297      0.203     -1.130      0.258      -0.628       0.169\n",
                        "ma.L2         -0.7420      0.208     -3.574      0.000      -1.149      -0.335\n",
                        "sigma2         9.3407      0.886     10.541      0.000       7.604      11.077\n",
                        "===================================================================================\n",
                        "Ljung-Box (L1) (Q):                   0.71   Jarque-Bera (JB):                 1.55\n",
                        "Prob(Q):                              0.40   Prob(JB):                         0.46\n",
                        "Heteroskedasticity (H):               1.02   Skew:                             0.08\n",
                        "Prob(H) (two-sided):                  0.93   Kurtosis:                         2.69\n",
                        "===================================================================================\n",
                        "\n",
                        "Warnings:\n",
                        "[1] Covariance matrix calculated using the outer product of gradients (complex-step).\n"
                    ]
                },
                {
                    "name": "stderr",
                    "output_type": "stream",
                    "text": [
                        "/home/vscode/.local/lib/python3.11/site-packages/statsmodels/base/model.py:607: ConvergenceWarning: Maximum Likelihood optimization failed to converge. Check mle_retvals\n",
                        "  warnings.warn(\"Maximum Likelihood optimization failed to \"\n"
                    ]
                }
            ],
            "source": [
                "# Entrenar el modelo ARIMA\n",
                "model = ARIMA(df_train, order=(8, 1, 2))\n",
                "model_fit = model.fit()\n",
                "print(model_fit.summary())"
            ]
        },
        {
            "cell_type": "markdown",
            "metadata": {},
            "source": [
                "## Paso 4: Predice con el conjunto de test"
            ]
        },
        {
            "cell_type": "code",
            "execution_count": 60,
            "metadata": {},
            "outputs": [
                {
                    "name": "stderr",
                    "output_type": "stream",
                    "text": [
                        "/home/vscode/.local/lib/python3.11/site-packages/statsmodels/tsa/statespace/representation.py:374: FutureWarning: Unknown keyword arguments: dict_keys(['typ']).Passing unknown keyword arguments will raise a TypeError beginning in version 0.15.\n",
                        "  warnings.warn(msg, FutureWarning)\n"
                    ]
                }
            ],
            "source": [
                "# Definir el rango para predecir\n",
                "start = df_test.index[0]\n",
                "end = df_test.index[-1]\n",
                "\n",
                "# Hacer la predicción\n",
                "predictions = model_fit.predict(start=start, end=end, typ='levels')  # 'levels' predice en escala original"
            ]
        },
        {
            "cell_type": "code",
            "execution_count": 61,
            "metadata": {},
            "outputs": [
                {
                    "data": {
                        "image/png": "[encoded data removed]",
                        "text/plain": [
                            "<Figure size 1200x600 with 1 Axes>"
                        ]
                    },
                    "metadata": {},
                    "output_type": "display_data"
                }
            ],
            "source": [
                "# Comparar con los valores reales\n",
                "plt.figure(figsize=(12, 6))\n",
                "plt.plot(df_train.index, df_train, label='Entrenamiento')\n",
                "plt.plot(df_test.index, df_test, label='Real (test)', color='orange')\n",
                "plt.plot(predictions.index, predictions, label='Predicción ARIMA', color='green')\n",
                "plt.title('Predicción vs Real')\n",
                "plt.legend()\n",
                "plt.grid(True)\n",
                "plt.show()"
            ]
        },
        {
            "cell_type": "code",
            "execution_count": 62,
            "metadata": {},
            "outputs": [
                {
                    "name": "stdout",
                    "output_type": "stream",
                    "text": [
                        "MAE: 2.50\n",
                        "RMSE: 3.03\n"
                    ]
                }
            ],
            "source": [
                "# Medir el rendimiento\n",
                "mae = mean_absolute_error(df_test, predictions)\n",
                "rmse = np.sqrt(mean_squared_error(df_test, predictions))\n",
                "\n",
                "print(f\"MAE: {mae:.2f}\")\n",
                "print(f\"RMSE: {rmse:.2f}\")"
            ]
        },
        {
            "cell_type": "markdown",
            "metadata": {},
            "source": [
                "**Conclusión:** El modelo ARIMA hizo predicciones bastante ajustadas, con un error medio de unas 2.5 unidades. Como las ventas están alrededor de 50-70, ese error es pequeño y el modelo funciona bien para anticipar las ventas y planificar el nuevo almacén."
            ]
        },
        {
            "cell_type": "markdown",
            "metadata": {},
            "source": [
                "## Paso 5: Guarda el modelo"
            ]
        },
        {
            "cell_type": "code",
            "execution_count": 63,
            "metadata": {},
            "outputs": [
                {
                    "data": {
                        "text/plain": [
                            "['models/arima_model.pkl']"
                        ]
                    },
                    "execution_count": 63,
                    "metadata": {},
                    "output_type": "execute_result"
                }
            ],
            "source": [
                "# Crea la carpeta\n",
                "if not os.path.exists('models'):\n",
                "    os.makedirs('models')\n",
                "\n",
                "# Guardar el modelo\n",
                "joblib.dump(model_fit, 'models/arima_model.pkl')"
            ]
        }
    ],
    "metadata": {
        "kernelspec": {
            "display_name": "Python 3",
            "language": "python",
            "name": "python3"
        },
        "language_info": {
            "codemirror_mode": {
                "name": "ipython",
                "version": 3
            },
            "file_extension": ".py",
            "mimetype": "text/x-python",
            "name": "python",
            "nbconvert_exporter": "python",
            "pygments_lexer": "ipython3",
            "version": "3.11.4"
        },
        "orig_nbformat": 4
    },
    "nbformat": 4,
    "nbformat_minor": 2
}
